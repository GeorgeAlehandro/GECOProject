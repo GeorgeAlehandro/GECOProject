{
 "cells": [
  {
   "cell_type": "code",
   "execution_count": null,
   "metadata": {},
   "outputs": [],
   "source": [
    "import pandas as pd\n",
    "import numpy as np"
   ]
  },
  {
   "cell_type": "code",
   "execution_count": null,
   "metadata": {},
   "outputs": [],
   "source": [
    "def extract_stats(filename):\n",
    "    f = pd.read_csv(filename, sep ='\\t')\n",
    "    \n",
    "    print(f[[\"# Feature\" ,\"Class\", \"Placements\"]])\n",
    "\n",
    "\n",
    "#extract_stats(\"C:/Users/User/Desktop/COURS M2 DLAD/S1/Geco/tp1/Collinsella_aerofaciens/GCF_003856815.1_ASM385681v1_feature_count.txt\")\n"
   ]
  },
  {
   "cell_type": "code",
   "execution_count": null,
   "metadata": {},
   "outputs": [],
   "source": [
    "def length_and_gc(filename):\n",
    "    f = open(filename ,\"r\")\n",
    "    \n",
    "    line = f.readline()\n",
    "    total_length = 0\n",
    "    total_GC = 0\n",
    "    while line :\n",
    "        if line.startswith(\">\"):\n",
    "            line = f.readline()\n",
    "        total_GC += line.count('G')\n",
    "        total_GC += line.count('C')\n",
    "        total_length += len(line)\n",
    "        line = f.readline()\n",
    "        #Eliminate the backspace after each line\n",
    "        line = line.replace(\"\\n\",\"\")\n",
    "    print(total_GC)\n",
    "    print(\"Total length is: \" + str(total_length))\n",
    "    print(\"% GC = \" + str(total_GC * 100 /total_length))\n",
    "    f.close()\n",
    "\n",
    "#length_and_gc(\"~/GECOProject/Collinsella_aerofaciens/GCF_003856815.1_ASM385681v1_genomic.fna\")\n"
   ]
  },
  {
   "cell_type": "code",
   "execution_count": null,
   "metadata": {},
   "outputs": [],
   "source": [
    "def cog_categories_EGGNOG(filename):\n",
    "    f = pd.read_excel(filename,header=2,engine='openpyxl')\n",
    "    return(f.COG_category.value_counts())\n",
    "    #When we want to do the calculations of the % of COG for a certain function\n",
    "    #Divide by the total number of proteins and not total number of queries proteins (NOT len(f))\n",
    "\n",
    "# df3 = pd.concat([cog_categories_EGGNOG(\"~/GECOProject/collinsella_aerofaciens/results_eggnog/MM_e74keo15.emapper.annotations.xlsx\")*100/1934, cog_categories_EGGNOG(\"~/GECOProject/Collinsella_provencensis/results_eggnog/MM_ypkmqep6.emapper.annotations.xlsx\")*100/1436,\n",
    "#               cog_categories_EGGNOG('~/GECOProject/Collinsella_intestinalis/results_eggnog/MM_dmqw6ljh.emapper.annotations.xlsx')*100/1522, cog_categories_EGGNOG('~/GECOProject/Senegalimassilia_anaerobia/results_eggnog/MM_z2_drto0.emapper.annotations.xlsx')*100/1904,\n",
    "#                cog_categories_EGGNOG('~/GECOProject/Senegalimassilia_faecalis/results_eggnog\\MM_onwcr_5u.emapper.annotations.xlsx')*100/2211], axis = 1)\n",
    "# print(df3)\n",
    "# df3 = df3.set_axis(['Collinsella Aerofaciens', 'Collinsella Provencensis', 'collinsella Intestinalis', 'Senegalimassilia Anaerobia', 'Senegalimassilia Faecalis'], axis=1, inplace=False)\n",
    "# df3.to_csv(\"~/GECOProject/resultats_newesT_comparaison_5.tsv\", sep='\\t')  \n"
   ]
  },
  {
   "cell_type": "code",
   "execution_count": null,
   "metadata": {},
   "outputs": [],
   "source": [
    "def cog_categories(filename):\n",
    "    f = pd.read_csv(filename, sep = \"\\t\")\n",
    "    f.Cat = f.Cat.str.replace(' ', '')\n",
    "    return(f.Cat.value_counts())\n",
    "df4 = pd.concat([cog_categories_EGGNOG(\"~/GECOProject/collinsella_aerofaciens/results_eggnog/MM_e74keo15.emapper.annotations.xlsx\")*100/1934,cog_categories(\"~/GECOProject/collinsella_aerofaciens/cog_result_table.tsv\")*100/1934], axis=  1)\n",
    "\n",
    "df4.to_csv(\"~/GECOProject/resultats_comparaison_eggNOG_VS_COG.tsv\", sep='\\t') \n",
    "\n",
    "#Coding density = Size of all the CDS / Size of the genome\n"
   ]
  },
  {
   "cell_type": "code",
   "execution_count": null,
   "metadata": {},
   "outputs": [],
   "source": [
    "def CDS_coding_protein_stats(filename):\n",
    "    f = pd.read_csv(filename, sep ='\\t')\n",
    "    f = f[f[\"# feature\"] == \"CDS\"]\n",
    "    f = f[f[\"class\"] == \"with_protein\"]\n",
    "    print(\"Max size of CDS: \"+str(max(f[\"feature_interval_length\"])))\n",
    "    print(\"AVG size of CDS: \"+str(f[\"feature_interval_length\"].mean()))\n",
    "    print(\"Total size of CDS: \"+str(sum(f[\"feature_interval_length\"])))\n",
    "    print(\"Number of CDS: \" +str(len(f[\"feature_interval_length\"])))\n",
    "\n",
    "    return(f)\n",
    "    \n",
    "# t = CDS_coding_protein_stats(\"~/GECOProject/Collinsella_aerofaciens/GCF_003856815.1_ASM385681v1_feature_table.tsv\")\n",
    "#CDS_coding_protein_stats('~/GECOProject/Collinsella_provencensis/GCF_900078545.1_PRJEB13207_feature_table.txt')\n",
    "#CDS_coding_protein_stats('~/GECOProject/Collinsella_intestinalis/GCF_902501455.1_DSM13632_feature_table.txt')\n",
    "#CDS_coding_protein_stats('~/GECOProject/Senegalimassilia_faecalis/GCF_004135645.1_ASM413564v1_feature_table.txt')\n",
    "#CDS_coding_protein_stats('~/GECOProject/Senegalimassilia_anaerobia/GCF_000236865.1_ASM23686v1_feature_table.txt')\n"
   ]
  },
  {
   "cell_type": "code",
   "execution_count": null,
   "metadata": {},
   "outputs": [],
   "source": [
    "def gene_stats(filename):\n",
    "    f = pd.read_csv(filename, sep ='\\t')\n",
    "    f = f[f[\"# feature\"] == \"gene\"]\n",
    "    print(\"Max size of genes: \"+str(max(f[\"feature_interval_length\"])))\n",
    "    print(\"AVG size of genes: \"+str(f[\"feature_interval_length\"].mean()))\n",
    "    print(\"Total size of genes: \"+str(sum(f[\"feature_interval_length\"])))\n",
    "    print(\"Number of genes: \" +str(len(f[\"feature_interval_length\"])))\n",
    "    return(f)\n",
    "    \n",
    "#gene_stats('~/GECOProject/Collinsella_provencensis/GCF_900078545.1_PRJEB13207_feature_table.txt')\n",
    "#gene_stats('~/GECOProject/Collinsella_intestinalis/GCF_902501455.1_DSM13632_feature_table.txt')\n",
    "#gene_stats('~/GECOProject/Senegalimassilia_faecalis/GCF_004135645.1_ASM413564v1_feature_table.txt')\n",
    "#gene_stats('~/GECOProject/Senegalimassilia_anaerobia/GCF_000236865.1_ASM23686v1_feature_table.txt')"
   ]
  },
  {
   "attachments": {},
   "cell_type": "markdown",
   "metadata": {},
   "source": [
    "For best hit alignment "
   ]
  },
  {
   "cell_type": "code",
   "execution_count": null,
   "metadata": {},
   "outputs": [],
   "source": [
    "def BlastpAlignmentLengthFilter(filename):\n",
    "    best_hit_df = pd.read_csv(filename, sep='\\t')\n",
    "    filt = best_hit_df[(best_hit_df['identpercentage'] > 30) & (best_hit_df[['qlen','slen']].min(axis=1)/best_hit_df['alignmentlength']*100 > 80)]\n",
    "    # printing data\n",
    "    print((filt[\"alignmentlength\"]*filt[\"identpercentage\"]).sum()/filt[\"qlen\"].sum()/100)\n",
    "BlastpAlignmentLengthFilter('~/GECOProject/for_blastp/TOP1_interestVSproche1')\n",
    "BlastpAlignmentLengthFilter('~/GECOProject/for_blastp/TOP1_interestVSproche2')\n",
    "BlastpAlignmentLengthFilter('~/GECOProject/for_blastp/TOP1_interestVSloin1')\n",
    "BlastpAlignmentLengthFilter('~/GECOProject/for_blastp/TOP1_interestVSloin2')\n"
   ]
  },
  {
   "cell_type": "code",
   "execution_count": null,
   "metadata": {},
   "outputs": [],
   "source": [
    "def BlastnAlignmentLengthFilter(filename):\n",
    "    best_hit_df = pd.read_csv(filename, sep='\\t')\n",
    "    filt = best_hit_df[(best_hit_df['identpercentage'] >= 70) & (best_hit_df[['qlen','slen']].min(axis=1)/best_hit_df['alignmentlength']*100 >= 70)]\n",
    "    return filt\n",
    "\n",
    "# Calcule ANI\n",
    "interestVSproche1 = BlastnAlignmentLengthFilter('~/GECOProject/for_blastn/TOP1_interestVSproche1')\n",
    "interestVSproche2 = BlastnAlignmentLengthFilter('~/GECOProject/for_blastn/TOP1_interestVSproche2')\n",
    "interestVSloin1 = BlastnAlignmentLengthFilter('~/GECOProject/for_blastn/TOP1_interestVSloin1')\n",
    "interestVSloin2 = BlastnAlignmentLengthFilter('~/GECOProject/for_blastn/TOP1_interestVSloin2')"
   ]
  },
  {
   "cell_type": "code",
   "execution_count": null,
   "metadata": {},
   "outputs": [],
   "source": [
    "#ANI blastn\n",
    "def CalculateANI(table):\n",
    "    print((table[\"alignmentlength\"]*table[\"identpercentage\"]).sum()/table[\"qlen\"].sum()/100)\n",
    "print(\"ANI\")\n",
    "CalculateANI(interestVSproche1)\n",
    "CalculateANI(interestVSproche2)\n",
    "\n",
    "CalculateANI(interestVSloin1)\n",
    "CalculateANI(interestVSloin2)\n",
    "\n"
   ]
  },
  {
   "cell_type": "code",
   "execution_count": null,
   "metadata": {},
   "outputs": [],
   "source": [
    "#AF blastn\n",
    "def CalculateAF(table):\n",
    "    print(table[\"qlen\"].sum()/1988613)\n",
    "print(\"AF\")\n",
    "CalculateAF(interestVSproche1)\n",
    "CalculateAF(interestVSproche2)\n",
    "\n",
    "CalculateAF(interestVSloin1)\n",
    "CalculateAF(interestVSloin2)"
   ]
  }
 ],
 "metadata": {
  "kernelspec": {
   "display_name": "Python 3",
   "language": "python",
   "name": "python3"
  },
  "language_info": {
   "name": "python",
   "version": "3.9.5 (tags/v3.9.5:0a7dcbd, May  3 2021, 17:27:52) [MSC v.1928 64 bit (AMD64)]"
  },
  "orig_nbformat": 4,
  "vscode": {
   "interpreter": {
    "hash": "cf92aa13fedf815d5c8dd192b8d835913fde3e8bc926b2a0ad6cc74ef2ba3ca2"
   }
  }
 },
 "nbformat": 4,
 "nbformat_minor": 2
}
